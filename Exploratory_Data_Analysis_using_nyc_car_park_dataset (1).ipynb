{
  "nbformat": 4,
  "nbformat_minor": 0,
  "metadata": {
    "colab": {
      "provenance": []
    },
    "kernelspec": {
      "name": "python3",
      "display_name": "Python 3"
    },
    "language_info": {
      "name": "python"
    }
  },
  "cells": [
    {
      "cell_type": "code",
      "execution_count": null,
      "metadata": {
        "id": "Ro3OirxWW_nB"
      },
      "outputs": [],
      "source": [
        "#import the relevant modules\n",
        "\n",
        "import pandas as pd\n",
        "import numpy as np\n",
        "import matplotlib.pyplot as plt\n",
        "import seaborn as sns\n",
        "from collections import Counter\n",
        "from datetime import datetime as dt"
      ]
    },
    {
      "cell_type": "code",
      "source": [
        "# read the dataset into memory using only relevant columns\n",
        "df=pd.read_csv('/content/drive/MyDrive/Azubi datasets/nyc-parking-violations-2020.csv',usecols=['Plate ID','Registration State','Issue Date','Vehicle Make','Issuing Agency','Violation Location','Violation Time','Violation County','Unregistered Vehicle?','No Standing or Stopping Violation','Hydrant Violation','Double Parking Violation'])"
      ],
      "metadata": {
        "id": "uw32626fYPLC"
      },
      "execution_count": null,
      "outputs": []
    },
    {
      "cell_type": "code",
      "source": [
        "#lets look at the first 15 dataset \n",
        "df.head(15)"
      ],
      "metadata": {
        "colab": {
          "base_uri": "https://localhost:8080/",
          "height": 1000
        },
        "id": "rBkoDu1zaZBx",
        "outputId": "e8a40814-b501-4433-daaa-e85b0a27621a"
      },
      "execution_count": null,
      "outputs": [
        {
          "output_type": "execute_result",
          "data": {
            "text/plain": [
              "   Plate ID Registration State              Issue Date Vehicle Make  \\\n",
              "0    J58JKX                 NJ  05/08/1972 12:00:00 AM        HONDA   \n",
              "1   KRE6058                 PA  08/29/1977 12:00:00 AM        ME/BE   \n",
              "2   444326R                 NJ  10/03/1988 12:00:00 AM        LEXUS   \n",
              "3   F728330                 OH  01/03/1990 12:00:00 AM        CHEVR   \n",
              "4   FMY9090                 NY  02/14/1990 12:00:00 AM         JEEP   \n",
              "5   KDG0693                 PA  07/21/1990 12:00:00 AM         HYUN   \n",
              "6   79928MG                 NY  09/19/1990 12:00:00 AM        INTER   \n",
              "7   JJJ8186                 NY  10/14/1990 12:00:00 AM          BMW   \n",
              "8   DKD6024                 NC  07/25/1991 12:00:00 AM         FORD   \n",
              "9    6542FR                 99  01/01/2000 12:00:00 AM        CMCKU   \n",
              "10  JKZ9192                 NY  01/02/2000 12:00:00 AM        HONDA   \n",
              "11  JEJ2470                 NY  01/02/2000 12:00:00 AM        HONDA   \n",
              "12  GLL6398                 NY  01/02/2000 12:00:00 AM        HONDA   \n",
              "13  HFB9724                 NY  01/02/2000 12:00:00 AM        HONDA   \n",
              "14  A081358                 ME  01/03/2000 12:00:00 AM        HONDA   \n",
              "\n",
              "   Issuing Agency  Violation Location Violation Time Violation County  \\\n",
              "0               P                72.0          0523P                K   \n",
              "1               P                77.0          0428P                K   \n",
              "2               P                88.0          0625A                K   \n",
              "3               P                90.0          1106A                K   \n",
              "4               S                90.0          1253A                K   \n",
              "5               P               100.0          0525P                Q   \n",
              "6               P                 1.0          1120A               NY   \n",
              "7               P                52.0          0320A               BX   \n",
              "8               P                68.0          0843P                K   \n",
              "9               P                17.0          0739P              NaN   \n",
              "10              P                73.0          1020A              NaN   \n",
              "11              P                44.0          0936P               BX   \n",
              "12              P                73.0          1030A                K   \n",
              "13              P                73.0          1015A                K   \n",
              "14              S                67.0          0952A                K   \n",
              "\n",
              "    Unregistered Vehicle?  No Standing or Stopping Violation  \\\n",
              "0                     0.0                                NaN   \n",
              "1                     0.0                                NaN   \n",
              "2                     0.0                                NaN   \n",
              "3                     0.0                                NaN   \n",
              "4                     0.0                                NaN   \n",
              "5                     0.0                                NaN   \n",
              "6                     0.0                                NaN   \n",
              "7                     0.0                                NaN   \n",
              "8                     0.0                                NaN   \n",
              "9                     0.0                                NaN   \n",
              "10                    0.0                                NaN   \n",
              "11                    0.0                                NaN   \n",
              "12                    0.0                                NaN   \n",
              "13                    0.0                                NaN   \n",
              "14                    0.0                                NaN   \n",
              "\n",
              "    Hydrant Violation  Double Parking Violation  \n",
              "0                 NaN                       NaN  \n",
              "1                 NaN                       NaN  \n",
              "2                 NaN                       NaN  \n",
              "3                 NaN                       NaN  \n",
              "4                 NaN                       NaN  \n",
              "5                 NaN                       NaN  \n",
              "6                 NaN                       NaN  \n",
              "7                 NaN                       NaN  \n",
              "8                 NaN                       NaN  \n",
              "9                 NaN                       NaN  \n",
              "10                NaN                       NaN  \n",
              "11                NaN                       NaN  \n",
              "12                NaN                       NaN  \n",
              "13                NaN                       NaN  \n",
              "14                NaN                       NaN  "
            ],
            "text/html": [
              "\n",
              "  <div id=\"df-3d8f0dff-eb07-4c92-b3b2-a47977c6d855\">\n",
              "    <div class=\"colab-df-container\">\n",
              "      <div>\n",
              "<style scoped>\n",
              "    .dataframe tbody tr th:only-of-type {\n",
              "        vertical-align: middle;\n",
              "    }\n",
              "\n",
              "    .dataframe tbody tr th {\n",
              "        vertical-align: top;\n",
              "    }\n",
              "\n",
              "    .dataframe thead th {\n",
              "        text-align: right;\n",
              "    }\n",
              "</style>\n",
              "<table border=\"1\" class=\"dataframe\">\n",
              "  <thead>\n",
              "    <tr style=\"text-align: right;\">\n",
              "      <th></th>\n",
              "      <th>Plate ID</th>\n",
              "      <th>Registration State</th>\n",
              "      <th>Issue Date</th>\n",
              "      <th>Vehicle Make</th>\n",
              "      <th>Issuing Agency</th>\n",
              "      <th>Violation Location</th>\n",
              "      <th>Violation Time</th>\n",
              "      <th>Violation County</th>\n",
              "      <th>Unregistered Vehicle?</th>\n",
              "      <th>No Standing or Stopping Violation</th>\n",
              "      <th>Hydrant Violation</th>\n",
              "      <th>Double Parking Violation</th>\n",
              "    </tr>\n",
              "  </thead>\n",
              "  <tbody>\n",
              "    <tr>\n",
              "      <th>0</th>\n",
              "      <td>J58JKX</td>\n",
              "      <td>NJ</td>\n",
              "      <td>05/08/1972 12:00:00 AM</td>\n",
              "      <td>HONDA</td>\n",
              "      <td>P</td>\n",
              "      <td>72.0</td>\n",
              "      <td>0523P</td>\n",
              "      <td>K</td>\n",
              "      <td>0.0</td>\n",
              "      <td>NaN</td>\n",
              "      <td>NaN</td>\n",
              "      <td>NaN</td>\n",
              "    </tr>\n",
              "    <tr>\n",
              "      <th>1</th>\n",
              "      <td>KRE6058</td>\n",
              "      <td>PA</td>\n",
              "      <td>08/29/1977 12:00:00 AM</td>\n",
              "      <td>ME/BE</td>\n",
              "      <td>P</td>\n",
              "      <td>77.0</td>\n",
              "      <td>0428P</td>\n",
              "      <td>K</td>\n",
              "      <td>0.0</td>\n",
              "      <td>NaN</td>\n",
              "      <td>NaN</td>\n",
              "      <td>NaN</td>\n",
              "    </tr>\n",
              "    <tr>\n",
              "      <th>2</th>\n",
              "      <td>444326R</td>\n",
              "      <td>NJ</td>\n",
              "      <td>10/03/1988 12:00:00 AM</td>\n",
              "      <td>LEXUS</td>\n",
              "      <td>P</td>\n",
              "      <td>88.0</td>\n",
              "      <td>0625A</td>\n",
              "      <td>K</td>\n",
              "      <td>0.0</td>\n",
              "      <td>NaN</td>\n",
              "      <td>NaN</td>\n",
              "      <td>NaN</td>\n",
              "    </tr>\n",
              "    <tr>\n",
              "      <th>3</th>\n",
              "      <td>F728330</td>\n",
              "      <td>OH</td>\n",
              "      <td>01/03/1990 12:00:00 AM</td>\n",
              "      <td>CHEVR</td>\n",
              "      <td>P</td>\n",
              "      <td>90.0</td>\n",
              "      <td>1106A</td>\n",
              "      <td>K</td>\n",
              "      <td>0.0</td>\n",
              "      <td>NaN</td>\n",
              "      <td>NaN</td>\n",
              "      <td>NaN</td>\n",
              "    </tr>\n",
              "    <tr>\n",
              "      <th>4</th>\n",
              "      <td>FMY9090</td>\n",
              "      <td>NY</td>\n",
              "      <td>02/14/1990 12:00:00 AM</td>\n",
              "      <td>JEEP</td>\n",
              "      <td>S</td>\n",
              "      <td>90.0</td>\n",
              "      <td>1253A</td>\n",
              "      <td>K</td>\n",
              "      <td>0.0</td>\n",
              "      <td>NaN</td>\n",
              "      <td>NaN</td>\n",
              "      <td>NaN</td>\n",
              "    </tr>\n",
              "    <tr>\n",
              "      <th>5</th>\n",
              "      <td>KDG0693</td>\n",
              "      <td>PA</td>\n",
              "      <td>07/21/1990 12:00:00 AM</td>\n",
              "      <td>HYUN</td>\n",
              "      <td>P</td>\n",
              "      <td>100.0</td>\n",
              "      <td>0525P</td>\n",
              "      <td>Q</td>\n",
              "      <td>0.0</td>\n",
              "      <td>NaN</td>\n",
              "      <td>NaN</td>\n",
              "      <td>NaN</td>\n",
              "    </tr>\n",
              "    <tr>\n",
              "      <th>6</th>\n",
              "      <td>79928MG</td>\n",
              "      <td>NY</td>\n",
              "      <td>09/19/1990 12:00:00 AM</td>\n",
              "      <td>INTER</td>\n",
              "      <td>P</td>\n",
              "      <td>1.0</td>\n",
              "      <td>1120A</td>\n",
              "      <td>NY</td>\n",
              "      <td>0.0</td>\n",
              "      <td>NaN</td>\n",
              "      <td>NaN</td>\n",
              "      <td>NaN</td>\n",
              "    </tr>\n",
              "    <tr>\n",
              "      <th>7</th>\n",
              "      <td>JJJ8186</td>\n",
              "      <td>NY</td>\n",
              "      <td>10/14/1990 12:00:00 AM</td>\n",
              "      <td>BMW</td>\n",
              "      <td>P</td>\n",
              "      <td>52.0</td>\n",
              "      <td>0320A</td>\n",
              "      <td>BX</td>\n",
              "      <td>0.0</td>\n",
              "      <td>NaN</td>\n",
              "      <td>NaN</td>\n",
              "      <td>NaN</td>\n",
              "    </tr>\n",
              "    <tr>\n",
              "      <th>8</th>\n",
              "      <td>DKD6024</td>\n",
              "      <td>NC</td>\n",
              "      <td>07/25/1991 12:00:00 AM</td>\n",
              "      <td>FORD</td>\n",
              "      <td>P</td>\n",
              "      <td>68.0</td>\n",
              "      <td>0843P</td>\n",
              "      <td>K</td>\n",
              "      <td>0.0</td>\n",
              "      <td>NaN</td>\n",
              "      <td>NaN</td>\n",
              "      <td>NaN</td>\n",
              "    </tr>\n",
              "    <tr>\n",
              "      <th>9</th>\n",
              "      <td>6542FR</td>\n",
              "      <td>99</td>\n",
              "      <td>01/01/2000 12:00:00 AM</td>\n",
              "      <td>CMCKU</td>\n",
              "      <td>P</td>\n",
              "      <td>17.0</td>\n",
              "      <td>0739P</td>\n",
              "      <td>NaN</td>\n",
              "      <td>0.0</td>\n",
              "      <td>NaN</td>\n",
              "      <td>NaN</td>\n",
              "      <td>NaN</td>\n",
              "    </tr>\n",
              "    <tr>\n",
              "      <th>10</th>\n",
              "      <td>JKZ9192</td>\n",
              "      <td>NY</td>\n",
              "      <td>01/02/2000 12:00:00 AM</td>\n",
              "      <td>HONDA</td>\n",
              "      <td>P</td>\n",
              "      <td>73.0</td>\n",
              "      <td>1020A</td>\n",
              "      <td>NaN</td>\n",
              "      <td>0.0</td>\n",
              "      <td>NaN</td>\n",
              "      <td>NaN</td>\n",
              "      <td>NaN</td>\n",
              "    </tr>\n",
              "    <tr>\n",
              "      <th>11</th>\n",
              "      <td>JEJ2470</td>\n",
              "      <td>NY</td>\n",
              "      <td>01/02/2000 12:00:00 AM</td>\n",
              "      <td>HONDA</td>\n",
              "      <td>P</td>\n",
              "      <td>44.0</td>\n",
              "      <td>0936P</td>\n",
              "      <td>BX</td>\n",
              "      <td>0.0</td>\n",
              "      <td>NaN</td>\n",
              "      <td>NaN</td>\n",
              "      <td>NaN</td>\n",
              "    </tr>\n",
              "    <tr>\n",
              "      <th>12</th>\n",
              "      <td>GLL6398</td>\n",
              "      <td>NY</td>\n",
              "      <td>01/02/2000 12:00:00 AM</td>\n",
              "      <td>HONDA</td>\n",
              "      <td>P</td>\n",
              "      <td>73.0</td>\n",
              "      <td>1030A</td>\n",
              "      <td>K</td>\n",
              "      <td>0.0</td>\n",
              "      <td>NaN</td>\n",
              "      <td>NaN</td>\n",
              "      <td>NaN</td>\n",
              "    </tr>\n",
              "    <tr>\n",
              "      <th>13</th>\n",
              "      <td>HFB9724</td>\n",
              "      <td>NY</td>\n",
              "      <td>01/02/2000 12:00:00 AM</td>\n",
              "      <td>HONDA</td>\n",
              "      <td>P</td>\n",
              "      <td>73.0</td>\n",
              "      <td>1015A</td>\n",
              "      <td>K</td>\n",
              "      <td>0.0</td>\n",
              "      <td>NaN</td>\n",
              "      <td>NaN</td>\n",
              "      <td>NaN</td>\n",
              "    </tr>\n",
              "    <tr>\n",
              "      <th>14</th>\n",
              "      <td>A081358</td>\n",
              "      <td>ME</td>\n",
              "      <td>01/03/2000 12:00:00 AM</td>\n",
              "      <td>HONDA</td>\n",
              "      <td>S</td>\n",
              "      <td>67.0</td>\n",
              "      <td>0952A</td>\n",
              "      <td>K</td>\n",
              "      <td>0.0</td>\n",
              "      <td>NaN</td>\n",
              "      <td>NaN</td>\n",
              "      <td>NaN</td>\n",
              "    </tr>\n",
              "  </tbody>\n",
              "</table>\n",
              "</div>\n",
              "      <button class=\"colab-df-convert\" onclick=\"convertToInteractive('df-3d8f0dff-eb07-4c92-b3b2-a47977c6d855')\"\n",
              "              title=\"Convert this dataframe to an interactive table.\"\n",
              "              style=\"display:none;\">\n",
              "        \n",
              "  <svg xmlns=\"http://www.w3.org/2000/svg\" height=\"24px\"viewBox=\"0 0 24 24\"\n",
              "       width=\"24px\">\n",
              "    <path d=\"M0 0h24v24H0V0z\" fill=\"none\"/>\n",
              "    <path d=\"M18.56 5.44l.94 2.06.94-2.06 2.06-.94-2.06-.94-.94-2.06-.94 2.06-2.06.94zm-11 1L8.5 8.5l.94-2.06 2.06-.94-2.06-.94L8.5 2.5l-.94 2.06-2.06.94zm10 10l.94 2.06.94-2.06 2.06-.94-2.06-.94-.94-2.06-.94 2.06-2.06.94z\"/><path d=\"M17.41 7.96l-1.37-1.37c-.4-.4-.92-.59-1.43-.59-.52 0-1.04.2-1.43.59L10.3 9.45l-7.72 7.72c-.78.78-.78 2.05 0 2.83L4 21.41c.39.39.9.59 1.41.59.51 0 1.02-.2 1.41-.59l7.78-7.78 2.81-2.81c.8-.78.8-2.07 0-2.86zM5.41 20L4 18.59l7.72-7.72 1.47 1.35L5.41 20z\"/>\n",
              "  </svg>\n",
              "      </button>\n",
              "      \n",
              "  <style>\n",
              "    .colab-df-container {\n",
              "      display:flex;\n",
              "      flex-wrap:wrap;\n",
              "      gap: 12px;\n",
              "    }\n",
              "\n",
              "    .colab-df-convert {\n",
              "      background-color: #E8F0FE;\n",
              "      border: none;\n",
              "      border-radius: 50%;\n",
              "      cursor: pointer;\n",
              "      display: none;\n",
              "      fill: #1967D2;\n",
              "      height: 32px;\n",
              "      padding: 0 0 0 0;\n",
              "      width: 32px;\n",
              "    }\n",
              "\n",
              "    .colab-df-convert:hover {\n",
              "      background-color: #E2EBFA;\n",
              "      box-shadow: 0px 1px 2px rgba(60, 64, 67, 0.3), 0px 1px 3px 1px rgba(60, 64, 67, 0.15);\n",
              "      fill: #174EA6;\n",
              "    }\n",
              "\n",
              "    [theme=dark] .colab-df-convert {\n",
              "      background-color: #3B4455;\n",
              "      fill: #D2E3FC;\n",
              "    }\n",
              "\n",
              "    [theme=dark] .colab-df-convert:hover {\n",
              "      background-color: #434B5C;\n",
              "      box-shadow: 0px 1px 3px 1px rgba(0, 0, 0, 0.15);\n",
              "      filter: drop-shadow(0px 1px 2px rgba(0, 0, 0, 0.3));\n",
              "      fill: #FFFFFF;\n",
              "    }\n",
              "  </style>\n",
              "\n",
              "      <script>\n",
              "        const buttonEl =\n",
              "          document.querySelector('#df-3d8f0dff-eb07-4c92-b3b2-a47977c6d855 button.colab-df-convert');\n",
              "        buttonEl.style.display =\n",
              "          google.colab.kernel.accessAllowed ? 'block' : 'none';\n",
              "\n",
              "        async function convertToInteractive(key) {\n",
              "          const element = document.querySelector('#df-3d8f0dff-eb07-4c92-b3b2-a47977c6d855');\n",
              "          const dataTable =\n",
              "            await google.colab.kernel.invokeFunction('convertToInteractive',\n",
              "                                                     [key], {});\n",
              "          if (!dataTable) return;\n",
              "\n",
              "          const docLinkHtml = 'Like what you see? Visit the ' +\n",
              "            '<a target=\"_blank\" href=https://colab.research.google.com/notebooks/data_table.ipynb>data table notebook</a>'\n",
              "            + ' to learn more about interactive tables.';\n",
              "          element.innerHTML = '';\n",
              "          dataTable['output_type'] = 'display_data';\n",
              "          await google.colab.output.renderOutput(dataTable, element);\n",
              "          const docLink = document.createElement('div');\n",
              "          docLink.innerHTML = docLinkHtml;\n",
              "          element.appendChild(docLink);\n",
              "        }\n",
              "      </script>\n",
              "    </div>\n",
              "  </div>\n",
              "  "
            ]
          },
          "metadata": {},
          "execution_count": 13
        }
      ]
    },
    {
      "cell_type": "code",
      "source": [
        "#...and the size of the data\n",
        "print(f'data has a size of {df.shape[0]:,} rows and {df.shape[1]} columns')"
      ],
      "metadata": {
        "colab": {
          "base_uri": "https://localhost:8080/"
        },
        "id": "YkRr9gXMj6D9",
        "outputId": "c711e94d-4d8a-4d1f-e052-b153d8e499b2"
      },
      "execution_count": null,
      "outputs": [
        {
          "output_type": "stream",
          "name": "stdout",
          "text": [
            "data has a size of 12,495,734 rows and 12 columns\n"
          ]
        }
      ]
    },
    {
      "cell_type": "code",
      "source": [
        "# lets get some info about the dataset\n",
        "\n",
        "df.info()"
      ],
      "metadata": {
        "colab": {
          "base_uri": "https://localhost:8080/"
        },
        "id": "2doPuqlwazJo",
        "outputId": "f0731752-0cba-4faa-b830-5a1f999cca1a"
      },
      "execution_count": null,
      "outputs": [
        {
          "output_type": "stream",
          "name": "stdout",
          "text": [
            "<class 'pandas.core.frame.DataFrame'>\n",
            "RangeIndex: 12495734 entries, 0 to 12495733\n",
            "Data columns (total 12 columns):\n",
            " #   Column                             Dtype  \n",
            "---  ------                             -----  \n",
            " 0   Plate ID                           object \n",
            " 1   Registration State                 object \n",
            " 2   Issue Date                         object \n",
            " 3   Vehicle Make                       object \n",
            " 4   Issuing Agency                     object \n",
            " 5   Violation Location                 float64\n",
            " 6   Violation Time                     object \n",
            " 7   Violation County                   object \n",
            " 8   Unregistered Vehicle?              float64\n",
            " 9   No Standing or Stopping Violation  float64\n",
            " 10  Hydrant Violation                  float64\n",
            " 11  Double Parking Violation           float64\n",
            "dtypes: float64(5), object(7)\n",
            "memory usage: 1.1+ GB\n"
          ]
        }
      ]
    },
    {
      "cell_type": "code",
      "source": [
        "#lets find all the null values\n",
        "df.isnull().sum()\n"
      ],
      "metadata": {
        "colab": {
          "base_uri": "https://localhost:8080/"
        },
        "id": "ZWiQ7z0bbEf2",
        "outputId": "f8b95218-10e6-49a4-a17a-039923a547dc"
      },
      "execution_count": null,
      "outputs": [
        {
          "output_type": "execute_result",
          "data": {
            "text/plain": [
              "Plate ID                                  202\n",
              "Registration State                          0\n",
              "Issue Date                                  0\n",
              "Vehicle Make                            62420\n",
              "Issuing Agency                              0\n",
              "Violation Location                    4538543\n",
              "Violation Time                            278\n",
              "Violation County                        40883\n",
              "Unregistered Vehicle?                11696719\n",
              "No Standing or Stopping Violation    12495734\n",
              "Hydrant Violation                    12495734\n",
              "Double Parking Violation             12495734\n",
              "dtype: int64"
            ]
          },
          "metadata": {},
          "execution_count": 10
        }
      ]
    },
    {
      "cell_type": "markdown",
      "source": [
        "We have a lot of null values however some columns have all values as null let's drop these columns"
      ],
      "metadata": {
        "id": "Lln8jn2Kks4P"
      }
    },
    {
      "cell_type": "code",
      "source": [
        "df.drop(axis=1,columns=['Unregistered Vehicle?', 'No Standing or Stopping Violation','Hydrant Violation','Double Parking Violation'], inplace=True)"
      ],
      "metadata": {
        "id": "OE224ebkbPFW"
      },
      "execution_count": null,
      "outputs": []
    },
    {
      "cell_type": "code",
      "source": [
        "# now let's drop all nan values\n",
        "\n",
        "df.dropna(inplace=True)"
      ],
      "metadata": {
        "id": "2B3AULAjlxlq"
      },
      "execution_count": null,
      "outputs": []
    },
    {
      "cell_type": "code",
      "source": [
        "# lets have a second look at our data info now\n",
        "\n",
        "df.info()"
      ],
      "metadata": {
        "colab": {
          "base_uri": "https://localhost:8080/"
        },
        "id": "_V5owABWmjkj",
        "outputId": "4fb344ab-876f-45e6-f8d2-f83952cac19a"
      },
      "execution_count": null,
      "outputs": [
        {
          "output_type": "stream",
          "name": "stdout",
          "text": [
            "<class 'pandas.core.frame.DataFrame'>\n",
            "Int64Index: 7874541 entries, 0 to 12495733\n",
            "Data columns (total 8 columns):\n",
            " #   Column              Dtype  \n",
            "---  ------              -----  \n",
            " 0   Plate ID            object \n",
            " 1   Registration State  object \n",
            " 2   Issue Date          object \n",
            " 3   Vehicle Make        object \n",
            " 4   Issuing Agency      object \n",
            " 5   Violation Location  float64\n",
            " 6   Violation Time      object \n",
            " 7   Violation County    object \n",
            "dtypes: float64(1), object(7)\n",
            "memory usage: 540.7+ MB\n"
          ]
        }
      ]
    },
    {
      "cell_type": "code",
      "source": [
        "#let's check null values again\n",
        "\n",
        "df.isnull().sum()"
      ],
      "metadata": {
        "colab": {
          "base_uri": "https://localhost:8080/"
        },
        "id": "WTdNcNZSmyoQ",
        "outputId": "af42c408-c019-452e-d80a-f291e12cd55b"
      },
      "execution_count": null,
      "outputs": [
        {
          "output_type": "execute_result",
          "data": {
            "text/plain": [
              "Plate ID              0\n",
              "Registration State    0\n",
              "Issue Date            0\n",
              "Vehicle Make          0\n",
              "Issuing Agency        0\n",
              "Violation Location    0\n",
              "Violation Time        0\n",
              "Violation County      0\n",
              "dtype: int64"
            ]
          },
          "metadata": {},
          "execution_count": 24
        }
      ]
    },
    {
      "cell_type": "code",
      "source": [],
      "metadata": {
        "id": "Q0YxFaBinBBr"
      },
      "execution_count": null,
      "outputs": []
    },
    {
      "cell_type": "markdown",
      "source": [
        "Let's do some analysis on the data now"
      ],
      "metadata": {
        "id": "7eIqEiu-nQS3"
      }
    },
    {
      "cell_type": "code",
      "source": [
        "#let's do a describe to see basic stats of the data\n",
        "\n",
        "df.describe()"
      ],
      "metadata": {
        "colab": {
          "base_uri": "https://localhost:8080/",
          "height": 300
        },
        "id": "UQ8iWuJ_nT7N",
        "outputId": "23202a0c-fea8-4c18-f140-f05165cadfe3"
      },
      "execution_count": null,
      "outputs": [
        {
          "output_type": "execute_result",
          "data": {
            "text/plain": [
              "       Violation Location\n",
              "count        7.874541e+06\n",
              "mean         5.560202e+01\n",
              "std          3.933919e+01\n",
              "min          1.000000e+00\n",
              "25%          1.800000e+01\n",
              "50%          4.900000e+01\n",
              "75%          9.000000e+01\n",
              "max          9.010000e+02"
            ],
            "text/html": [
              "\n",
              "  <div id=\"df-65855745-48c0-417d-ad7e-565035abb6aa\">\n",
              "    <div class=\"colab-df-container\">\n",
              "      <div>\n",
              "<style scoped>\n",
              "    .dataframe tbody tr th:only-of-type {\n",
              "        vertical-align: middle;\n",
              "    }\n",
              "\n",
              "    .dataframe tbody tr th {\n",
              "        vertical-align: top;\n",
              "    }\n",
              "\n",
              "    .dataframe thead th {\n",
              "        text-align: right;\n",
              "    }\n",
              "</style>\n",
              "<table border=\"1\" class=\"dataframe\">\n",
              "  <thead>\n",
              "    <tr style=\"text-align: right;\">\n",
              "      <th></th>\n",
              "      <th>Violation Location</th>\n",
              "    </tr>\n",
              "  </thead>\n",
              "  <tbody>\n",
              "    <tr>\n",
              "      <th>count</th>\n",
              "      <td>7.874541e+06</td>\n",
              "    </tr>\n",
              "    <tr>\n",
              "      <th>mean</th>\n",
              "      <td>5.560202e+01</td>\n",
              "    </tr>\n",
              "    <tr>\n",
              "      <th>std</th>\n",
              "      <td>3.933919e+01</td>\n",
              "    </tr>\n",
              "    <tr>\n",
              "      <th>min</th>\n",
              "      <td>1.000000e+00</td>\n",
              "    </tr>\n",
              "    <tr>\n",
              "      <th>25%</th>\n",
              "      <td>1.800000e+01</td>\n",
              "    </tr>\n",
              "    <tr>\n",
              "      <th>50%</th>\n",
              "      <td>4.900000e+01</td>\n",
              "    </tr>\n",
              "    <tr>\n",
              "      <th>75%</th>\n",
              "      <td>9.000000e+01</td>\n",
              "    </tr>\n",
              "    <tr>\n",
              "      <th>max</th>\n",
              "      <td>9.010000e+02</td>\n",
              "    </tr>\n",
              "  </tbody>\n",
              "</table>\n",
              "</div>\n",
              "      <button class=\"colab-df-convert\" onclick=\"convertToInteractive('df-65855745-48c0-417d-ad7e-565035abb6aa')\"\n",
              "              title=\"Convert this dataframe to an interactive table.\"\n",
              "              style=\"display:none;\">\n",
              "        \n",
              "  <svg xmlns=\"http://www.w3.org/2000/svg\" height=\"24px\"viewBox=\"0 0 24 24\"\n",
              "       width=\"24px\">\n",
              "    <path d=\"M0 0h24v24H0V0z\" fill=\"none\"/>\n",
              "    <path d=\"M18.56 5.44l.94 2.06.94-2.06 2.06-.94-2.06-.94-.94-2.06-.94 2.06-2.06.94zm-11 1L8.5 8.5l.94-2.06 2.06-.94-2.06-.94L8.5 2.5l-.94 2.06-2.06.94zm10 10l.94 2.06.94-2.06 2.06-.94-2.06-.94-.94-2.06-.94 2.06-2.06.94z\"/><path d=\"M17.41 7.96l-1.37-1.37c-.4-.4-.92-.59-1.43-.59-.52 0-1.04.2-1.43.59L10.3 9.45l-7.72 7.72c-.78.78-.78 2.05 0 2.83L4 21.41c.39.39.9.59 1.41.59.51 0 1.02-.2 1.41-.59l7.78-7.78 2.81-2.81c.8-.78.8-2.07 0-2.86zM5.41 20L4 18.59l7.72-7.72 1.47 1.35L5.41 20z\"/>\n",
              "  </svg>\n",
              "      </button>\n",
              "      \n",
              "  <style>\n",
              "    .colab-df-container {\n",
              "      display:flex;\n",
              "      flex-wrap:wrap;\n",
              "      gap: 12px;\n",
              "    }\n",
              "\n",
              "    .colab-df-convert {\n",
              "      background-color: #E8F0FE;\n",
              "      border: none;\n",
              "      border-radius: 50%;\n",
              "      cursor: pointer;\n",
              "      display: none;\n",
              "      fill: #1967D2;\n",
              "      height: 32px;\n",
              "      padding: 0 0 0 0;\n",
              "      width: 32px;\n",
              "    }\n",
              "\n",
              "    .colab-df-convert:hover {\n",
              "      background-color: #E2EBFA;\n",
              "      box-shadow: 0px 1px 2px rgba(60, 64, 67, 0.3), 0px 1px 3px 1px rgba(60, 64, 67, 0.15);\n",
              "      fill: #174EA6;\n",
              "    }\n",
              "\n",
              "    [theme=dark] .colab-df-convert {\n",
              "      background-color: #3B4455;\n",
              "      fill: #D2E3FC;\n",
              "    }\n",
              "\n",
              "    [theme=dark] .colab-df-convert:hover {\n",
              "      background-color: #434B5C;\n",
              "      box-shadow: 0px 1px 3px 1px rgba(0, 0, 0, 0.15);\n",
              "      filter: drop-shadow(0px 1px 2px rgba(0, 0, 0, 0.3));\n",
              "      fill: #FFFFFF;\n",
              "    }\n",
              "  </style>\n",
              "\n",
              "      <script>\n",
              "        const buttonEl =\n",
              "          document.querySelector('#df-65855745-48c0-417d-ad7e-565035abb6aa button.colab-df-convert');\n",
              "        buttonEl.style.display =\n",
              "          google.colab.kernel.accessAllowed ? 'block' : 'none';\n",
              "\n",
              "        async function convertToInteractive(key) {\n",
              "          const element = document.querySelector('#df-65855745-48c0-417d-ad7e-565035abb6aa');\n",
              "          const dataTable =\n",
              "            await google.colab.kernel.invokeFunction('convertToInteractive',\n",
              "                                                     [key], {});\n",
              "          if (!dataTable) return;\n",
              "\n",
              "          const docLinkHtml = 'Like what you see? Visit the ' +\n",
              "            '<a target=\"_blank\" href=https://colab.research.google.com/notebooks/data_table.ipynb>data table notebook</a>'\n",
              "            + ' to learn more about interactive tables.';\n",
              "          element.innerHTML = '';\n",
              "          dataTable['output_type'] = 'display_data';\n",
              "          await google.colab.output.renderOutput(dataTable, element);\n",
              "          const docLink = document.createElement('div');\n",
              "          docLink.innerHTML = docLinkHtml;\n",
              "          element.appendChild(docLink);\n",
              "        }\n",
              "      </script>\n",
              "    </div>\n",
              "  </div>\n",
              "  "
            ]
          },
          "metadata": {},
          "execution_count": 25
        }
      ]
    },
    {
      "cell_type": "code",
      "source": [
        "#Let's Transpose \n",
        "df.describe().transpose()"
      ],
      "metadata": {
        "colab": {
          "base_uri": "https://localhost:8080/",
          "height": 81
        },
        "id": "yTgGOsj4nthW",
        "outputId": "c4737fad-f432-4d63-bd79-57676609a327"
      },
      "execution_count": null,
      "outputs": [
        {
          "output_type": "execute_result",
          "data": {
            "text/plain": [
              "                        count       mean        std  min   25%   50%   75%  \\\n",
              "Violation Location  7874541.0  55.602023  39.339188  1.0  18.0  49.0  90.0   \n",
              "\n",
              "                      max  \n",
              "Violation Location  901.0  "
            ],
            "text/html": [
              "\n",
              "  <div id=\"df-852ffb25-3462-4d2e-b25c-70d15a3935a4\">\n",
              "    <div class=\"colab-df-container\">\n",
              "      <div>\n",
              "<style scoped>\n",
              "    .dataframe tbody tr th:only-of-type {\n",
              "        vertical-align: middle;\n",
              "    }\n",
              "\n",
              "    .dataframe tbody tr th {\n",
              "        vertical-align: top;\n",
              "    }\n",
              "\n",
              "    .dataframe thead th {\n",
              "        text-align: right;\n",
              "    }\n",
              "</style>\n",
              "<table border=\"1\" class=\"dataframe\">\n",
              "  <thead>\n",
              "    <tr style=\"text-align: right;\">\n",
              "      <th></th>\n",
              "      <th>count</th>\n",
              "      <th>mean</th>\n",
              "      <th>std</th>\n",
              "      <th>min</th>\n",
              "      <th>25%</th>\n",
              "      <th>50%</th>\n",
              "      <th>75%</th>\n",
              "      <th>max</th>\n",
              "    </tr>\n",
              "  </thead>\n",
              "  <tbody>\n",
              "    <tr>\n",
              "      <th>Violation Location</th>\n",
              "      <td>7874541.0</td>\n",
              "      <td>55.602023</td>\n",
              "      <td>39.339188</td>\n",
              "      <td>1.0</td>\n",
              "      <td>18.0</td>\n",
              "      <td>49.0</td>\n",
              "      <td>90.0</td>\n",
              "      <td>901.0</td>\n",
              "    </tr>\n",
              "  </tbody>\n",
              "</table>\n",
              "</div>\n",
              "      <button class=\"colab-df-convert\" onclick=\"convertToInteractive('df-852ffb25-3462-4d2e-b25c-70d15a3935a4')\"\n",
              "              title=\"Convert this dataframe to an interactive table.\"\n",
              "              style=\"display:none;\">\n",
              "        \n",
              "  <svg xmlns=\"http://www.w3.org/2000/svg\" height=\"24px\"viewBox=\"0 0 24 24\"\n",
              "       width=\"24px\">\n",
              "    <path d=\"M0 0h24v24H0V0z\" fill=\"none\"/>\n",
              "    <path d=\"M18.56 5.44l.94 2.06.94-2.06 2.06-.94-2.06-.94-.94-2.06-.94 2.06-2.06.94zm-11 1L8.5 8.5l.94-2.06 2.06-.94-2.06-.94L8.5 2.5l-.94 2.06-2.06.94zm10 10l.94 2.06.94-2.06 2.06-.94-2.06-.94-.94-2.06-.94 2.06-2.06.94z\"/><path d=\"M17.41 7.96l-1.37-1.37c-.4-.4-.92-.59-1.43-.59-.52 0-1.04.2-1.43.59L10.3 9.45l-7.72 7.72c-.78.78-.78 2.05 0 2.83L4 21.41c.39.39.9.59 1.41.59.51 0 1.02-.2 1.41-.59l7.78-7.78 2.81-2.81c.8-.78.8-2.07 0-2.86zM5.41 20L4 18.59l7.72-7.72 1.47 1.35L5.41 20z\"/>\n",
              "  </svg>\n",
              "      </button>\n",
              "      \n",
              "  <style>\n",
              "    .colab-df-container {\n",
              "      display:flex;\n",
              "      flex-wrap:wrap;\n",
              "      gap: 12px;\n",
              "    }\n",
              "\n",
              "    .colab-df-convert {\n",
              "      background-color: #E8F0FE;\n",
              "      border: none;\n",
              "      border-radius: 50%;\n",
              "      cursor: pointer;\n",
              "      display: none;\n",
              "      fill: #1967D2;\n",
              "      height: 32px;\n",
              "      padding: 0 0 0 0;\n",
              "      width: 32px;\n",
              "    }\n",
              "\n",
              "    .colab-df-convert:hover {\n",
              "      background-color: #E2EBFA;\n",
              "      box-shadow: 0px 1px 2px rgba(60, 64, 67, 0.3), 0px 1px 3px 1px rgba(60, 64, 67, 0.15);\n",
              "      fill: #174EA6;\n",
              "    }\n",
              "\n",
              "    [theme=dark] .colab-df-convert {\n",
              "      background-color: #3B4455;\n",
              "      fill: #D2E3FC;\n",
              "    }\n",
              "\n",
              "    [theme=dark] .colab-df-convert:hover {\n",
              "      background-color: #434B5C;\n",
              "      box-shadow: 0px 1px 3px 1px rgba(0, 0, 0, 0.15);\n",
              "      filter: drop-shadow(0px 1px 2px rgba(0, 0, 0, 0.3));\n",
              "      fill: #FFFFFF;\n",
              "    }\n",
              "  </style>\n",
              "\n",
              "      <script>\n",
              "        const buttonEl =\n",
              "          document.querySelector('#df-852ffb25-3462-4d2e-b25c-70d15a3935a4 button.colab-df-convert');\n",
              "        buttonEl.style.display =\n",
              "          google.colab.kernel.accessAllowed ? 'block' : 'none';\n",
              "\n",
              "        async function convertToInteractive(key) {\n",
              "          const element = document.querySelector('#df-852ffb25-3462-4d2e-b25c-70d15a3935a4');\n",
              "          const dataTable =\n",
              "            await google.colab.kernel.invokeFunction('convertToInteractive',\n",
              "                                                     [key], {});\n",
              "          if (!dataTable) return;\n",
              "\n",
              "          const docLinkHtml = 'Like what you see? Visit the ' +\n",
              "            '<a target=\"_blank\" href=https://colab.research.google.com/notebooks/data_table.ipynb>data table notebook</a>'\n",
              "            + ' to learn more about interactive tables.';\n",
              "          element.innerHTML = '';\n",
              "          dataTable['output_type'] = 'display_data';\n",
              "          await google.colab.output.renderOutput(dataTable, element);\n",
              "          const docLink = document.createElement('div');\n",
              "          docLink.innerHTML = docLinkHtml;\n",
              "          element.appendChild(docLink);\n",
              "        }\n",
              "      </script>\n",
              "    </div>\n",
              "  </div>\n",
              "  "
            ]
          },
          "metadata": {},
          "execution_count": 26
        }
      ]
    },
    {
      "cell_type": "code",
      "source": [
        "#let's look at the unique values in registration state\n",
        "\n",
        "df['Registration State'].unique()"
      ],
      "metadata": {
        "colab": {
          "base_uri": "https://localhost:8080/"
        },
        "id": "VWadZBKpn6tc",
        "outputId": "6e4eb0ab-2206-48b4-ec4c-30c8490e0709"
      },
      "execution_count": null,
      "outputs": [
        {
          "output_type": "execute_result",
          "data": {
            "text/plain": [
              "array(['NJ', 'PA', 'OH', 'NY', 'NC', 'ME', 'CT', 'IN', 'IL', 'FL', '99',\n",
              "       'VA', 'MA', 'ID', 'CA', 'NE', 'HI', 'OK', 'AL', 'WA', 'VT', 'WY',\n",
              "       'WI', 'NH', 'MD', 'KY', 'GA', 'TX', 'RI', 'AR', 'TN', 'AZ', 'SC',\n",
              "       'NV', 'QB', 'DE', 'MS', 'MN', 'MO', 'OR', 'MI', 'NM', 'UT', 'ON',\n",
              "       'DP', 'GV', 'CO', 'SD', 'IA', 'WV', 'MX', 'DC', 'LA', 'NB', 'KS',\n",
              "       'ND', 'MT', 'AK', 'AB', 'PR', 'PE', 'BC', 'SK', 'NS', 'FO', 'NT',\n",
              "       'MB', 'YT'], dtype=object)"
            ]
          },
          "metadata": {},
          "execution_count": 28
        }
      ]
    },
    {
      "cell_type": "code",
      "source": [
        "#lets check the states and their violations\n",
        "state_counter=Counter()\n",
        "\n",
        "state_counter.update(df['Registration State'])\n",
        "\n",
        "print(state_counter)"
      ],
      "metadata": {
        "colab": {
          "base_uri": "https://localhost:8080/"
        },
        "id": "qyR5iDpzsfeZ",
        "outputId": "0115e8c0-3ed1-4f8d-9578-96b0298228ce"
      },
      "execution_count": null,
      "outputs": [
        {
          "output_type": "stream",
          "name": "stdout",
          "text": [
            "Counter({'NY': 5945181, 'NJ': 778155, 'PA': 212550, 'IN': 131924, 'CT': 112649, 'FL': 99648, 'MA': 59924, 'VA': 49056, 'MD': 42781, 'TX': 42275, 'NC': 37783, 'ME': 29874, 'IL': 25599, 'GA': 25371, 'MN': 20970, 'AZ': 20152, 'OH': 19528, 'CA': 17404, '99': 17167, 'OK': 15677, 'SC': 14844, 'GV': 14618, 'TN': 14388, 'OR': 13439, 'WI': 11105, 'MI': 10481, 'DE': 10417, 'RI': 8302, 'AL': 8127, 'WA': 7666, 'NH': 6517, 'VT': 5712, 'ON': 5461, 'MO': 4132, 'QB': 3507, 'CO': 3142, 'LA': 3136, 'KY': 2794, 'DP': 2773, 'DC': 2468, 'WV': 2041, 'MS': 1836, 'IA': 1773, 'SD': 1396, 'AR': 1363, 'ID': 1206, 'NV': 1161, 'UT': 1157, 'KS': 1026, 'NM': 1023, 'NE': 1000, 'MT': 855, 'AK': 356, 'ND': 345, 'WY': 343, 'PR': 308, 'AB': 154, 'NS': 109, 'BC': 97, 'HI': 95, 'NB': 81, 'FO': 55, 'MB': 29, 'PE': 17, 'SK': 8, 'MX': 5, 'NT': 3, 'YT': 2})\n"
          ]
        }
      ]
    },
    {
      "cell_type": "code",
      "source": [
        "# which state has a lot of violations (Top 10)\n",
        "\n",
        "state=[]\n",
        "number_violations=[]\n",
        "\n",
        "for items in state_counter.most_common(10):\n",
        "  state.append(items[0])\n",
        "  number_violations.append(items[1])\n",
        "\n",
        "\n",
        "fig=plt.figure()\n",
        "fig.set_size_inches(12,8)\n",
        "plt.style.use('fivethirtyeight')\n",
        "plt.bar(state,number_violations)\n",
        "\n",
        "plt.title('Top 10 state with a lot of violations')\n",
        "\n",
        "plt.xlabel('state')\n",
        "plt.ylabel('number of violations')\n",
        "\n",
        "\n",
        "\n"
      ],
      "metadata": {
        "colab": {
          "base_uri": "https://localhost:8080/",
          "height": 575
        },
        "id": "nFOL2hx2oxbR",
        "outputId": "69e5279d-7445-4406-85fc-a78607fafaf0"
      },
      "execution_count": null,
      "outputs": [
        {
          "output_type": "execute_result",
          "data": {
            "text/plain": [
              "Text(0, 0.5, 'number of violations')"
            ]
          },
          "metadata": {},
          "execution_count": 42
        },
        {
          "output_type": "display_data",
          "data": {
            "text/plain": [
              "<Figure size 864x576 with 1 Axes>"
            ],
            "image/png": "[encoded data removed]"
          },
          "metadata": {}
        }
      ]
    },
    {
      "cell_type": "code",
      "source": [],
      "metadata": {
        "id": "49w7_eUWqB6c"
      },
      "execution_count": null,
      "outputs": []
    }
  ]
}